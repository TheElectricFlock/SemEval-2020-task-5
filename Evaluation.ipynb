{
 "cells": [
  {
   "cell_type": "code",
   "execution_count": null,
   "id": "b81162a5",
   "metadata": {},
   "outputs": [],
   "source": [
    "import csv\n",
    "import chars2vec\n",
    "import re\n",
    "import numpy as np\n",
    "import keras.backend as K\n",
    "from tensorflow.keras import datasets, layers, models, losses, callbacks\n",
    "from sklearn.model_selection import train_test_split\n",
    "import statistics"
   ]
  },
  {
   "cell_type": "code",
   "execution_count": null,
   "id": "09a0d9e7",
   "metadata": {},
   "outputs": [],
   "source": [
    "def f1(predictions, gold):\n",
    "    \"\"\"\n",
    "    F1 (a.k.a. DICE) operating on two lists of offsets (e.g., character).\n",
    "    >>> assert f1([0, 1, 4, 5], [0, 1, 6]) == 0.5714285714285714\n",
    "    :param predictions: a list of predicted offsets\n",
    "    :param gold: a list of offsets serving as the ground truth\n",
    "    :return: a score between 0 and 1\n",
    "    \"\"\"\n",
    "    if len(gold) == 0:\n",
    "        return 1 if len(predictions) == 0 else 0\n",
    "    if len(predictions) == 0:\n",
    "        return 0\n",
    "    predictions_set = set(predictions)\n",
    "    gold_set = set(gold)\n",
    "    nom = 2 * len(predictions_set.intersection(gold_set))\n",
    "    denom = len(predictions_set) + len(gold_set)\n",
    "    return float(nom)/float(denom)"
   ]
  },
  {
   "cell_type": "code",
   "execution_count": null,
   "id": "76931717",
   "metadata": {},
   "outputs": [],
   "source": [
    "def read_data_text(filename):\n",
    "    \"\"\"Reads csv file with python, text.\"\"\"\n",
    "    data = []\n",
    "    with open(filename) as csvfile:\n",
    "        reader = csv.DictReader(csvfile)\n",
    "        count = 0\n",
    "        for row in reader:\n",
    "            data.append(row['text'])\n",
    "    csvfile.close()\n",
    "    return data"
   ]
  },
  {
   "cell_type": "code",
   "execution_count": null,
   "id": "84ca884b",
   "metadata": {},
   "outputs": [],
   "source": [
    "def read_data_spans(filename):\n",
    "    \"\"\"Reads csv file with python, text.\"\"\"\n",
    "    data = []\n",
    "    with open(filename) as csvfile:\n",
    "        reader = csv.DictReader(csvfile)\n",
    "        count = 0\n",
    "        for row in reader:\n",
    "            if row['spans'] == '[]' or row['spans'] == []:\n",
    "                data.append([])\n",
    "            else:\n",
    "                data.append([int(j) for j in row['spans'][1:-1].split(\", \")])\n",
    "    csvfile.close()\n",
    "    return data"
   ]
  },
  {
   "cell_type": "markdown",
   "id": "4db04600",
   "metadata": {},
   "source": [
    "Read the test text and labels"
   ]
  },
  {
   "cell_type": "code",
   "execution_count": null,
   "id": "5c3b7e85",
   "metadata": {},
   "outputs": [],
   "source": [
    "texts = read_data_text('data/tsd_test_readable.csv')\n",
    "spans = read_data_spans('data/tsd_test_readable.csv')"
   ]
  },
  {
   "cell_type": "markdown",
   "id": "ce4a6444",
   "metadata": {},
   "source": [
    "Inspect the text"
   ]
  },
  {
   "cell_type": "code",
   "execution_count": null,
   "id": "5d9f0d60",
   "metadata": {},
   "outputs": [],
   "source": [
    "texts"
   ]
  },
  {
   "cell_type": "markdown",
   "id": "620141a8",
   "metadata": {},
   "source": [
    "Inspect the spans"
   ]
  },
  {
   "cell_type": "code",
   "execution_count": null,
   "id": "34bc9856",
   "metadata": {},
   "outputs": [],
   "source": [
    "spans"
   ]
  },
  {
   "cell_type": "markdown",
   "id": "5224bdc0",
   "metadata": {},
   "source": [
    "Load the test data into a numpy array"
   ]
  },
  {
   "cell_type": "code",
   "execution_count": null,
   "id": "8160eb5d",
   "metadata": {},
   "outputs": [],
   "source": [
    "test_X = np.zeros(shape=(len(texts), 1024, 50))\n",
    "c2v_model = chars2vec.load_model('eng_50')\n",
    "for x, string in enumerate(texts):\n",
    "    for y, char in enumerate(string):\n",
    "            char_vect = c2v_model.vectorize_words([char])\n",
    "            test_X[x][y] = [word_vect for word_vect in char_vect[0]]"
   ]
  },
  {
   "cell_type": "code",
   "execution_count": 51,
   "id": "26bb09a3",
   "metadata": {},
   "outputs": [],
   "source": [
    "model = models.load_model(f\"DeconvNet_deep_model_300_epochs_sko\")\n",
    "y_pred = model.predict(test_X)"
   ]
  },
  {
   "cell_type": "code",
   "execution_count": 57,
   "id": "dd63b8ce",
   "metadata": {},
   "outputs": [],
   "source": [
    "def fix_word_boundaries(span, text):\n",
    "    # \"You fucking Moron you silly cunt\" [6,7,8,9,10,11,12,13,14,15,16,28,29,30]\n",
    "    # [4,5,6,7,8,9,10,11,12,13,14,15,16,28,29,30,31]\n",
    "    seperated_text = []\n",
    "    word = ''\n",
    "    new_span = []\n",
    "    current_word_span = []\n",
    "    toxic_word = False\n",
    "    for n, char in enumerate(text):\n",
    "        if n in span:\n",
    "            toxic_word = True\n",
    "        if char == ' ':\n",
    "            seperated_text.append(word)\n",
    "            seperated_text.append(' ')\n",
    "            word = ''\n",
    "            if toxic_word:\n",
    "                new_span.extend(current_word_span)\n",
    "                current_word_span = []\n",
    "                toxic_word = False\n",
    "            else:\n",
    "                current_word_span = []\n",
    "                toxic_word = False\n",
    "        else:\n",
    "            word += char\n",
    "            current_word_span.append(n)\n",
    "        if n == len(text) - 1:\n",
    "            seperated_text.append(word)\n",
    "            if toxic_word:\n",
    "                new_span.extend(current_word_span)\n",
    "    print(new_span)\n",
    "    return new_span\n",
    "\n",
    "#fix_word_boundaries([6,7,8,9,10,11,12,13,14,15,16,28,29,30], \"You fucking Moron you silly cunt\")"
   ]
  },
  {
   "cell_type": "code",
   "execution_count": 55,
   "id": "a2a51bb8",
   "metadata": {},
   "outputs": [
    {
     "name": "stdout",
     "output_type": "stream",
     "text": [
      "avg F1 0.539761\n"
     ]
    }
   ],
   "source": [
    "scores = []\n",
    "for x, pred in enumerate(y_pred):\n",
    "    y_pred_f1_compatible = [j for j, i in enumerate(pred) if np.argmax(i) == 0]\n",
    "    #y_pred_f1_compatible = fix_word_boundaries(y_pred_f1_compatible, texts[x])\n",
    "    y_true_f1_compatible = spans[x]\n",
    "    score = f1(y_pred_f1_compatible, y_true_f1_compatible)\n",
    "    scores.append(score)\n",
    "\n",
    "print('avg F1 %g' % statistics.mean(scores))\n",
    "#0.559889"
   ]
  },
  {
   "cell_type": "code",
   "execution_count": null,
   "id": "3a84702a",
   "metadata": {},
   "outputs": [],
   "source": []
  }
 ],
 "metadata": {
  "kernelspec": {
   "display_name": "Python 3",
   "language": "python",
   "name": "python3"
  },
  "language_info": {
   "codemirror_mode": {
    "name": "ipython",
    "version": 3
   },
   "file_extension": ".py",
   "mimetype": "text/x-python",
   "name": "python",
   "nbconvert_exporter": "python",
   "pygments_lexer": "ipython3",
   "version": "3.7.8"
  }
 },
 "nbformat": 4,
 "nbformat_minor": 5
}
