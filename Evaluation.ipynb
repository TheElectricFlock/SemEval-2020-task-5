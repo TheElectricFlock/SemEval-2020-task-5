{
 "cells": [
  {
   "cell_type": "code",
   "execution_count": null,
   "id": "4f501639",
   "metadata": {},
   "outputs": [],
   "source": [
    "import csv\n",
    "import chars2vec\n",
    "import re\n",
    "import numpy as np\n",
    "import keras.backend as K\n",
    "from tensorflow.keras import datasets, layers, models, losses, callbacks\n",
    "from sklearn.model_selection import train_test_split\n",
    "import statistics"
   ]
  },
  {
   "cell_type": "code",
   "execution_count": null,
   "id": "4a188b80",
   "metadata": {},
   "outputs": [],
   "source": [
    "def f1(predictions, gold):\n",
    "    \"\"\"\n",
    "    F1 (a.k.a. DICE) operating on two lists of offsets (e.g., character).\n",
    "    >>> assert f1([0, 1, 4, 5], [0, 1, 6]) == 0.5714285714285714\n",
    "    :param predictions: a list of predicted offsets\n",
    "    :param gold: a list of offsets serving as the ground truth\n",
    "    :return: a score between 0 and 1\n",
    "    \"\"\"\n",
    "    if len(gold) == 0:\n",
    "        return 1 if len(predictions) == 0 else 0\n",
    "    if len(predictions) == 0:\n",
    "        return 0\n",
    "    predictions_set = set(predictions)\n",
    "    gold_set = set(gold)\n",
    "    nom = 2 * len(predictions_set.intersection(gold_set))\n",
    "    denom = len(predictions_set) + len(gold_set)\n",
    "    return float(nom)/float(denom)"
   ]
  },
  {
   "cell_type": "code",
   "execution_count": null,
   "id": "269a6d2a",
   "metadata": {},
   "outputs": [],
   "source": [
    "def read_data_text(filename):\n",
    "    \"\"\"Reads csv file with python, text.\"\"\"\n",
    "    data = []\n",
    "    with open(filename) as csvfile:\n",
    "        reader = csv.DictReader(csvfile)\n",
    "        count = 0\n",
    "        for row in reader:\n",
    "            data.append(row['text'])\n",
    "    csvfile.close()\n",
    "    return data"
   ]
  },
  {
   "cell_type": "code",
   "execution_count": null,
   "id": "652840a5",
   "metadata": {},
   "outputs": [],
   "source": [
    "def read_data_spans(filename):\n",
    "    \"\"\"Reads csv file with python, text.\"\"\"\n",
    "    data = []\n",
    "    with open(filename) as csvfile:\n",
    "        reader = csv.DictReader(csvfile)\n",
    "        count = 0\n",
    "        for row in reader:\n",
    "            if row['spans'] == '[]' or row['spans'] == []:\n",
    "                data.append([])\n",
    "            else:\n",
    "                data.append([int(j) for j in row['spans'][1:-1].split(\", \")])\n",
    "    csvfile.close()\n",
    "    return data"
   ]
  },
  {
   "cell_type": "code",
   "execution_count": null,
   "id": "a38cc500",
   "metadata": {},
   "outputs": [],
   "source": [
    "texts = read_data_text('gdrive/My Drive/Colab Notebooks/Data/tsd_test_readable_text.csv')\n",
    "spans = read_data_spans('gdrive/My Drive/Colab Notebooks/Data/tsd_test.csv')\n",
    "spans"
   ]
  }
 ],
 "metadata": {
  "kernelspec": {
   "display_name": "Python 3",
   "language": "python",
   "name": "python3"
  },
  "language_info": {
   "codemirror_mode": {
    "name": "ipython",
    "version": 3
   },
   "file_extension": ".py",
   "mimetype": "text/x-python",
   "name": "python",
   "nbconvert_exporter": "python",
   "pygments_lexer": "ipython3",
   "version": "3.7.8"
  }
 },
 "nbformat": 4,
 "nbformat_minor": 5
}
