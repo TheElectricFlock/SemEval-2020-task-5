{
 "cells": [
  {
   "cell_type": "code",
   "execution_count": null,
   "id": "7172d67b",
   "metadata": {},
   "outputs": [],
   "source": [
    "import csv\n",
    "import chars2vec\n",
    "import re\n",
    "import numpy as np\n",
    "import keras.backend as K\n",
    "from tensorflow.keras import datasets, layers, models, losses, callbacks\n",
    "from sklearn.model_selection import train_test_split\n",
    "import statistics"
   ]
  },
  {
   "cell_type": "markdown",
   "id": "3be8f75c",
   "metadata": {},
   "source": [
    "Read the test text and labels"
   ]
  },
  {
   "cell_type": "code",
   "execution_count": null,
   "id": "f69a0f4a",
   "metadata": {},
   "outputs": [],
   "source": [
    "texts = read_data_text('data/tsd_test_readable.csv')\n",
    "spans = read_data_spans('data/tsd_test_readable.csv')"
   ]
  },
  {
   "cell_type": "markdown",
   "id": "a8d68591",
   "metadata": {},
   "source": [
    "Inspect the text"
   ]
  },
  {
   "cell_type": "code",
   "execution_count": null,
   "id": "62f3be5f",
   "metadata": {},
   "outputs": [],
   "source": [
    "texts"
   ]
  },
  {
   "cell_type": "markdown",
   "id": "fd8a2900",
   "metadata": {},
   "source": [
    "Inspect the spans"
   ]
  },
  {
   "cell_type": "code",
   "execution_count": null,
   "id": "e6f5d96d",
   "metadata": {},
   "outputs": [],
   "source": [
    "spans"
   ]
  },
  {
   "cell_type": "markdown",
   "id": "83e61664",
   "metadata": {},
   "source": [
    "Load the test data into a numpy array"
   ]
  },
  {
   "cell_type": "code",
   "execution_count": null,
   "id": "21886092",
   "metadata": {},
   "outputs": [],
   "source": [
    "test_X = np.zeros(shape=(len(texts), 1024, 50))\n",
    "c2v_model = chars2vec.load_model('eng_50')\n",
    "for x, string in enumerate(texts):\n",
    "    for y, char in enumerate(string):\n",
    "            char_vect = c2v_model.vectorize_words([char])\n",
    "            test_X[x][y] = [word_vect for word_vect in char_vect[0]]"
   ]
  },
  {
   "cell_type": "code",
   "execution_count": null,
   "id": "e8e521b3",
   "metadata": {},
   "outputs": [],
   "source": [
    "example = np.zeros(shape=(1, 1024, 50))\n",
    "test_string = [\"You wanker, you fucking egit I hope you die you a**hole\"]\n",
    "\n",
    "for x, string in enumerate(test_string):\n",
    "    for y, char in enumerate(string):\n",
    "            char_vect = c2v_model.vectorize_words([char])\n",
    "            example[x][y] = [word_vect for word_vect in char_vect[0]]"
   ]
  },
  {
   "cell_type": "code",
   "execution_count": null,
   "id": "784aeda6",
   "metadata": {},
   "outputs": [],
   "source": [
    "model = models.load_model(f\"DeconvNet_model_300_epochs_sko\")\n",
    "y_pred = model.predict(test_X)"
   ]
  },
  {
   "cell_type": "code",
   "execution_count": null,
   "id": "5981d574",
   "metadata": {},
   "outputs": [],
   "source": [
    "def fix_word_boundaries(span, text):\n",
    "    # \"You fucking Moron you silly cunt\" [6,7,8,9,10,11,12,13,14,15,16,28,29,30]\n",
    "    # [4,5,6,7,8,9,10,11,12,13,14,15,16,28,29,30,31]\n",
    "    seperated_text = []\n",
    "    word = ''\n",
    "    new_span = []\n",
    "    current_word_span = []\n",
    "    toxic_word = False\n",
    "    for n, char in enumerate(text):\n",
    "        if n in span:\n",
    "            toxic_word = True\n",
    "        if char == ' ':\n",
    "            seperated_text.append(word)\n",
    "            seperated_text.append(' ')\n",
    "            word = ''\n",
    "            if toxic_word:\n",
    "                new_span.extend(current_word_span)\n",
    "                current_word_span = []\n",
    "                toxic_word = False\n",
    "            else:\n",
    "                current_word_span = []\n",
    "                toxic_word = False\n",
    "        else:\n",
    "            word += char\n",
    "            current_word_span.append(n)\n",
    "        if n == len(text) - 1:\n",
    "            seperated_text.append(word)\n",
    "            if toxic_word:\n",
    "                new_span.extend(current_word_span)\n",
    "    return new_span"
   ]
  },
  {
   "cell_type": "code",
   "execution_count": null,
   "id": "47cae004",
   "metadata": {},
   "outputs": [],
   "source": [
    "scores = []\n",
    "for x, pred in enumerate(y_pred):\n",
    "    y_pred_f1_compatible = [j for j, i in enumerate(pred) if np.argmax(i) == 0]\n",
    "    #y_pred_f1_compatible = fix_word_boundaries(y_pred_f1_compatible, texts[x])\n",
    "    y_true_f1_compatible = spans[x]\n",
    "    score = f1(y_pred_f1_compatible, y_true_f1_compatible)\n",
    "    scores.append(score)\n",
    "\n",
    "print('avg F1 %g' % statistics.mean(scores))\n"
   ]
  },
  {
   "cell_type": "code",
   "execution_count": null,
   "id": "42af66e8",
   "metadata": {},
   "outputs": [],
   "source": [
    "test_pred = model.predict(example)"
   ]
  },
  {
   "cell_type": "code",
   "execution_count": null,
   "id": "ae81a8a2",
   "metadata": {},
   "outputs": [],
   "source": [
    "for x, pred in enumerate(test_pred):\n",
    "    char_arr = [j for j, i in enumerate(test_pred[0]) if np.argmax(i) == 0]\n",
    "    print(f\"text: {test_string[x]}\")\n",
    "    print(f\"Predicted span: {char_arr}\")\n",
    "    print(f\"Flagged text: {test_string[x][char_arr[0]:char_arr[-1]]}\")\n",
    "    "
   ]
  },
  {
   "cell_type": "code",
   "execution_count": null,
   "id": "844ecb22",
   "metadata": {},
   "outputs": [],
   "source": []
  }
 ],
 "metadata": {
  "kernelspec": {
   "display_name": "Python 3",
   "language": "python",
   "name": "python3"
  },
  "language_info": {
   "codemirror_mode": {
    "name": "ipython",
    "version": 3
   },
   "file_extension": ".py",
   "mimetype": "text/x-python",
   "name": "python",
   "nbconvert_exporter": "python",
   "pygments_lexer": "ipython3",
   "version": "3.7.8"
  }
 },
 "nbformat": 4,
 "nbformat_minor": 5
}
